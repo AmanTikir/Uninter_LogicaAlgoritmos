{
  "nbformat": 4,
  "nbformat_minor": 0,
  "metadata": {
    "colab": {
      "name": "Atividade Pratica 2021.ipynb",
      "provenance": [],
      "authorship_tag": "ABX9TyOFeVxMRiy3swuJRdn391P3",
      "include_colab_link": true
    },
    "kernelspec": {
      "name": "python3",
      "display_name": "Python 3"
    },
    "language_info": {
      "name": "python"
    }
  },
  "cells": [
    {
      "cell_type": "markdown",
      "metadata": {
        "id": "view-in-github",
        "colab_type": "text"
      },
      "source": [
        "<a href=\"https://colab.research.google.com/github/AmanTikir/Uninter_LogicaAlgoritmos/blob/main/Atividade_Pratica_2021.ipynb\" target=\"_parent\"><img src=\"https://colab.research.google.com/assets/colab-badge.svg\" alt=\"Open In Colab\"/></a>"
      ]
    },
    {
      "cell_type": "markdown",
      "metadata": {
        "id": "MFDEulK5XyxZ"
      },
      "source": [
        "Atividade prática - LÓGICA DE PROGRAMAÇÃO E ALGORITMOS\n",
        "\n",
        "DURVAL GIANNOTTI CARVALHO – RU 3743013\n",
        "\n",
        "PROF. VINICIUS POZZOBON BORIN\n"
      ]
    },
    {
      "cell_type": "code",
      "metadata": {
        "colab": {
          "base_uri": "https://localhost:8080/"
        },
        "id": "U5PN91Y4YLza",
        "outputId": "b79284e6-01c1-47f9-b895-d9f6086e1c53"
      },
      "source": [
        "#Exercício 01\n",
        "\n",
        "#Obtenção dos dados\n",
        "NomeAluno = input(\"Qual nome do aluno: \")\n",
        "NotaAluno = float(input(\"Qual nota obtida: \"))\n",
        "\n",
        "#Verificação e exibição na tela\n",
        "if (NotaAluno >= 0.0 and NotaAluno <= 2.9):\n",
        "  print (\"O aluno {} tirou nota {} e se enquadra no conceito E\" .format(NomeAluno, NotaAluno));\n",
        "if (NotaAluno >= 3.0 and NotaAluno <= 4.9):\n",
        "  print (\"O aluno {} tirou nota {} e se enquadra no conceito D\" .format(NomeAluno, NotaAluno));\n",
        "if (NotaAluno >= 5.0 and NotaAluno <= 6.9):\n",
        "  print (\"O aluno {} tirou nota {} e se enquadra no conceito C\" .format(NomeAluno, NotaAluno));\n",
        "if (NotaAluno >= 7.0 and NotaAluno <= 8.9):\n",
        "  print (\"O aluno {} tirou nota {} e se enquadra no conceito B\" .format(NomeAluno, NotaAluno));\n",
        "if (NotaAluno >= 9.0 and NotaAluno <= 10):\n",
        "  print (\"O aluno {} tirou nota {} e se enquadra no conceito A\" .format(NomeAluno, NotaAluno));\n",
        "\n",
        "\n",
        "#Fim do exercício 01"
      ],
      "execution_count": null,
      "outputs": [
        {
          "output_type": "stream",
          "text": [
            "Qual nome do aluno: Durval \n",
            "Qual nota obtida: 0.9\n",
            "O aluno Durval  tirou nota 0.9 e se enquadra no conceito E\n"
          ],
          "name": "stdout"
        }
      ]
    }
  ]
}